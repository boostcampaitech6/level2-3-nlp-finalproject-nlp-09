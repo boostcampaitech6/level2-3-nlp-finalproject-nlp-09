{
 "cells": [
  {
   "cell_type": "code",
   "execution_count": 1,
   "metadata": {},
   "outputs": [
    {
     "name": "stderr",
     "output_type": "stream",
     "text": [
      "/home/jhw/.venv/lib/python3.8/site-packages/tqdm/auto.py:21: TqdmWarning: IProgress not found. Please update jupyter and ipywidgets. See https://ipywidgets.readthedocs.io/en/stable/user_install.html\n",
      "  from .autonotebook import tqdm as notebook_tqdm\n"
     ]
    }
   ],
   "source": [
    "import os\n",
    "from tqdm.auto import tqdm, trange\n",
    "import argparse\n",
    "import random\n",
    "import pickle\n",
    "import numpy as np\n",
    "import pandas as pd\n",
    "import json\n",
    "from pprint import pprint\n",
    "from glob import glob\n",
    "from datasets import load_dataset, Dataset"
   ]
  },
  {
   "cell_type": "code",
   "execution_count": 2,
   "metadata": {},
   "outputs": [],
   "source": [
    "files = glob('../data/*/*/*.json')"
   ]
  },
  {
   "cell_type": "code",
   "execution_count": 4,
   "metadata": {},
   "outputs": [],
   "source": [
    "def read_json(file):\n",
    "    with open(file, 'rb') as f:\n",
    "        data = json.load(f)\n",
    "    return data\n",
    "\n",
    "def extract_train_data(data):\n",
    "    relation = data['info']['relation']\n",
    "    situation = data['info']['situation']\n",
    "    conversation = [\n",
    "        {\n",
    "            'role' : 'user' if x['role'] == 'speaker' else 'assistant',\n",
    "            'content' : x['text'].replace('감정화자','너')\n",
    "        } for x in data['utterances']\n",
    "    ]\n",
    "\n",
    "    return relation, situation, conversation\n",
    "\n",
    "def make_trainset(files):\n",
    "    relations = []\n",
    "    situations = []\n",
    "    conversations = []\n",
    "    for file in tqdm(files):\n",
    "        data = read_json(file)\n",
    "        if data['info']['evaluation']['avg_rating'] >= 5:\n",
    "            relation, situation, conversation = extract_train_data(data)\n",
    "            if relation in ['친구']:\n",
    "                relations.append(relation)\n",
    "                situations.append(situation)\n",
    "                conversations.append(conversation)\n",
    "    \n",
    "    output = {\n",
    "        'relation' : relations,\n",
    "        'situation' : situations,\n",
    "        'conversation' : conversations\n",
    "    }\n",
    "    return output"
   ]
  },
  {
   "cell_type": "code",
   "execution_count": 5,
   "metadata": {},
   "outputs": [
    {
     "name": "stderr",
     "output_type": "stream",
     "text": [
      "100%|██████████| 28638/28638 [00:02<00:00, 11847.19it/s]\n"
     ]
    }
   ],
   "source": [
    "trainset = make_trainset(files)"
   ]
  },
  {
   "cell_type": "code",
   "execution_count": 6,
   "metadata": {},
   "outputs": [
    {
     "data": {
      "text/plain": [
       "('취미로 베이킹을 해서 주변에 나눠준다.',\n",
       " [{'role': 'user', 'content': '혹시 오늘 바빠? 안 바쁘면 퇴근하고 나랑 잠깐 볼래?'},\n",
       "  {'role': 'assistant', 'content': '오늘 안 바빠서 완전 칼퇴야. 근데 무슨 일 있어?'},\n",
       "  {'role': 'user',\n",
       "   'content': '아니 다른 게 아니고 내가 취미로 베이킹하잖아. 오늘 아침에 빵을 좀 구워서 주변에 나눠주려고 들고 왔거든. 너도 좀 나눠주려고.'},\n",
       "  {'role': 'assistant',\n",
       "   'content': '정말? 나 완전 빵순이잖아. 정말 기대된다. 너무 좋아. 벌써 퇴근하고 싶어서 미치겠어.'},\n",
       "  {'role': 'user',\n",
       "   'content': '주변에서 이렇게 좋아할 때마다 너무 뿌듯해서 계속 만들고 나눠주게 되는 것 같아. 내 마음이 너무 풍족해지는 기분이라 너무 기뻐.'},\n",
       "  {'role': 'assistant',\n",
       "   'content': '네가 기쁘다니 나도 기분이 너무 좋다. 그나저나 나눔을 통해서 기쁨을 얻는다니 네가 너무 대단하게 느껴지는걸?'},\n",
       "  {'role': 'user',\n",
       "   'content': '나눔을 통해서 얻는 기쁨은 값을 매길 수 없는 것 같아. 난 취미를 하면서 남도 행복하게 만들어 줄 수 있어서 너무 행복해.'},\n",
       "  {'role': 'assistant',\n",
       "   'content': '자신에게 맞는 취미를 찾는 게 쉬운 일이 아닌데 너무 잘된 일이다. 너를 그렇게 행복하게 만드는 취미를 찾아서 나까지 너무 기쁘다.'},\n",
       "  {'role': 'user',\n",
       "   'content': '그렇게 말해줘서 고마워. 나눠주다 보면 이렇게 돈 쓰고 시간 써가면서 왜 다 남한테 주냐고 그런 사람들도 있거든. 네가 이해해 주니까 더 행복하다 헤헤.'},\n",
       "  {'role': 'assistant',\n",
       "   'content': '나누다 보면 받은 사람들도 받은 만큼 보답하고 싶기 마련이잖아. 굳이 너한테가 아니더라도 다른 사람들에게 보답한다면 그게 바로 선한 영향력 아닐까? 넌 가만 보면 언제나 주변 사람들에게 좋은 영향을 끼치는 것 같아 참 대단해.'},\n",
       "  {'role': 'user',\n",
       "   'content': '그런 걸까? 네가 그렇게 말해주니까 마치 대단한 일을 하고 있는 거 같은 느낌이 들어서 머쓱하네, 하하. 부끄럽지만 내가 자랑스러워.'},\n",
       "  {'role': 'assistant',\n",
       "   'content': '그럼 당연히 자랑스러워할 만하지. 지금은 빵이겠지만 혹시 알아? 네가 나중에 이 나눔의 맛을 알아버려서 기부를 크게 할지? 하하하.'},\n",
       "  {'role': 'user',\n",
       "   'content': '하하하. 그거 좋은 생각인데? 내가 취미로 만드는 빵을 팔아서 기부를 해도 되겠다!'},\n",
       "  {'role': 'assistant',\n",
       "   'content': '헉, 정말 좋은 아이디어인데? 그럼 정말 필요한 곳으로 네 도움이 갈 수 있을 거야. 네가 한다면 나도 정말 너를 돕고 싶어.'},\n",
       "  {'role': 'user', 'content': '정말? 그럼 우리 오늘 만날 때 구상을 한번 해보자. 너무 설레.'},\n",
       "  {'role': 'assistant',\n",
       "   'content': '그래 좋아! 거봐 벌써 너의 좋은 영향력이 나에게 끼친 것 같아. 나도 막 갑자기 기부할 생각에 마음이 들떠.'},\n",
       "  {'role': 'user',\n",
       "   'content': '하하하 넌 언제나 날 웃게 만들어준다니까. 그렇게 말해줘서 고마워. 좀 이따 보자!'}])"
      ]
     },
     "execution_count": 6,
     "metadata": {},
     "output_type": "execute_result"
    }
   ],
   "source": [
    "i = 4\n",
    "trainset['situation'][i], trainset['conversation'][i]"
   ]
  },
  {
   "cell_type": "code",
   "execution_count": 15,
   "metadata": {},
   "outputs": [
    {
     "data": {
      "text/plain": [
       "1776"
      ]
     },
     "execution_count": 15,
     "metadata": {},
     "output_type": "execute_result"
    }
   ],
   "source": [
    "len('\\n'.join([x['text'] for x in trainset['conversation'][0]]))"
   ]
  },
  {
   "cell_type": "code",
   "execution_count": 7,
   "metadata": {},
   "outputs": [],
   "source": [
    "dataset = Dataset.from_dict(trainset)"
   ]
  },
  {
   "cell_type": "code",
   "execution_count": 9,
   "metadata": {},
   "outputs": [],
   "source": [
    "def formatting_prompts_func(example):\n",
    "    output_texts = []\n",
    "    for conversation in example['conversation']:\n",
    "        texts = []\n",
    "        for line in conversation:\n",
    "            text = f\"### {'User' if line['role'] == 'speaker' else 'Assistant'}: {line['text']}{'</끝>' if line['role']!='speaker' else ''}\"\n",
    "            texts.append(text)\n",
    "        output_texts.append(\"\\n\".join(texts))\n",
    "    return output_texts"
   ]
  },
  {
   "cell_type": "code",
   "execution_count": 10,
   "metadata": {},
   "outputs": [
    {
     "ename": "KeyError",
     "evalue": "'text'",
     "output_type": "error",
     "traceback": [
      "\u001b[0;31m---------------------------------------------------------------------------\u001b[0m",
      "\u001b[0;31mKeyError\u001b[0m                                  Traceback (most recent call last)",
      "Cell \u001b[0;32mIn[10], line 2\u001b[0m\n\u001b[1;32m      1\u001b[0m \u001b[38;5;28;01mfrom\u001b[39;00m \u001b[38;5;21;01mpprint\u001b[39;00m \u001b[38;5;28;01mimport\u001b[39;00m pprint\n\u001b[0;32m----> 2\u001b[0m pprint(\u001b[43mformatting_prompts_func\u001b[49m\u001b[43m(\u001b[49m\u001b[43mdataset\u001b[49m\u001b[43m[\u001b[49m\u001b[38;5;241;43m10\u001b[39;49m\u001b[43m:\u001b[49m\u001b[38;5;241;43m11\u001b[39;49m\u001b[43m]\u001b[49m\u001b[43m)\u001b[49m)\n",
      "Cell \u001b[0;32mIn[9], line 6\u001b[0m, in \u001b[0;36mformatting_prompts_func\u001b[0;34m(example)\u001b[0m\n\u001b[1;32m      4\u001b[0m texts \u001b[38;5;241m=\u001b[39m []\n\u001b[1;32m      5\u001b[0m \u001b[38;5;28;01mfor\u001b[39;00m line \u001b[38;5;129;01min\u001b[39;00m conversation:\n\u001b[0;32m----> 6\u001b[0m     text \u001b[38;5;241m=\u001b[39m \u001b[38;5;124mf\u001b[39m\u001b[38;5;124m\"\u001b[39m\u001b[38;5;124m### \u001b[39m\u001b[38;5;132;01m{\u001b[39;00m\u001b[38;5;124m'\u001b[39m\u001b[38;5;124mUser\u001b[39m\u001b[38;5;124m'\u001b[39m\u001b[38;5;250m \u001b[39m\u001b[38;5;28;01mif\u001b[39;00m\u001b[38;5;250m \u001b[39mline[\u001b[38;5;124m'\u001b[39m\u001b[38;5;124mrole\u001b[39m\u001b[38;5;124m'\u001b[39m]\u001b[38;5;250m \u001b[39m\u001b[38;5;241m==\u001b[39m\u001b[38;5;250m \u001b[39m\u001b[38;5;124m'\u001b[39m\u001b[38;5;124mspeaker\u001b[39m\u001b[38;5;124m'\u001b[39m\u001b[38;5;250m \u001b[39m\u001b[38;5;28;01melse\u001b[39;00m\u001b[38;5;250m \u001b[39m\u001b[38;5;124m'\u001b[39m\u001b[38;5;124mAssistant\u001b[39m\u001b[38;5;124m'\u001b[39m\u001b[38;5;132;01m}\u001b[39;00m\u001b[38;5;124m: \u001b[39m\u001b[38;5;132;01m{\u001b[39;00mline[\u001b[38;5;124m'\u001b[39m\u001b[38;5;124mtext\u001b[39m\u001b[38;5;124m'\u001b[39m]\u001b[38;5;132;01m}\u001b[39;00m\u001b[38;5;132;01m{\u001b[39;00m\u001b[38;5;124m'\u001b[39m\u001b[38;5;124m</끝>\u001b[39m\u001b[38;5;124m'\u001b[39m\u001b[38;5;250m \u001b[39m\u001b[38;5;28;01mif\u001b[39;00m\u001b[38;5;250m \u001b[39mline[\u001b[38;5;124m'\u001b[39m\u001b[38;5;124mrole\u001b[39m\u001b[38;5;124m'\u001b[39m]\u001b[38;5;241m!=\u001b[39m\u001b[38;5;124m'\u001b[39m\u001b[38;5;124mspeaker\u001b[39m\u001b[38;5;124m'\u001b[39m\u001b[38;5;250m \u001b[39m\u001b[38;5;28;01melse\u001b[39;00m\u001b[38;5;250m \u001b[39m\u001b[38;5;124m'\u001b[39m\u001b[38;5;124m'\u001b[39m\u001b[38;5;132;01m}\u001b[39;00m\u001b[38;5;124m\"\u001b[39m\n\u001b[1;32m      7\u001b[0m     texts\u001b[38;5;241m.\u001b[39mappend(text)\n\u001b[1;32m      8\u001b[0m output_texts\u001b[38;5;241m.\u001b[39mappend(\u001b[38;5;124m\"\u001b[39m\u001b[38;5;130;01m\\n\u001b[39;00m\u001b[38;5;124m\"\u001b[39m\u001b[38;5;241m.\u001b[39mjoin(texts))\n",
      "\u001b[0;31mKeyError\u001b[0m: 'text'"
     ]
    }
   ],
   "source": [
    "from pprint import pprint\n",
    "pprint(formatting_prompts_func(dataset[10:11]))"
   ]
  }
 ],
 "metadata": {
  "kernelspec": {
   "display_name": ".venv",
   "language": "python",
   "name": "python3"
  },
  "language_info": {
   "codemirror_mode": {
    "name": "ipython",
    "version": 3
   },
   "file_extension": ".py",
   "mimetype": "text/x-python",
   "name": "python",
   "nbconvert_exporter": "python",
   "pygments_lexer": "ipython3",
   "version": "3.8.10"
  }
 },
 "nbformat": 4,
 "nbformat_minor": 2
}
