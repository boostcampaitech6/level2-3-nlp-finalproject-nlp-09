{
 "cells": [
  {
   "cell_type": "code",
   "execution_count": null,
   "metadata": {},
   "outputs": [],
   "source": [
    "import pandas as pd\n",
    "import tqdm\n",
    "import numpy as np\n",
    "import json\n",
    "import sklearn\n",
    "import random\n",
    "import os\n",
    "\n",
    "from transformers import AutoTokenizer, AutoModelForSequenceClassification, AutoConfig, Trainer, TrainingArguments\n",
    "from sklearn.model_selection import train_test_split\n",
    "from sklearn.metrics import accuracy_score\n",
    "import torch.nn.functional as F\n",
    "import torch\n",
    "from torch.utils.data import DataLoader\n",
    "import pickle as pickle"
   ]
  },
  {
   "cell_type": "code",
   "execution_count": null,
   "metadata": {},
   "outputs": [],
   "source": [
    "def set_seed(seed:int = 42):\n",
    "    torch.manual_seed(seed)\n",
    "    torch.cuda.manual_seed(seed)\n",
    "    torch.cuda.manual_seed_all(seed)  # if use multi-GPU\n",
    "    torch.backends.cudnn.deterministic = True\n",
    "    torch.backends.cudnn.benchmark = False\n",
    "    np.random.seed(seed)\n",
    "    random.seed(seed)\n",
    "\n",
    "set_seed(42)"
   ]
  },
  {
   "cell_type": "code",
   "execution_count": null,
   "metadata": {},
   "outputs": [],
   "source": [
    "def label_2_num(label):\n",
    "  for idx, value in enumerate(label.unique()):\n",
    "    label_2_num[value] = idx\n",
    "    \n",
    "def num_2_label(label):\n",
    "  for idx, value in enumerate(label.unique()):\n",
    "    num_2_label[idx] = value"
   ]
  },
  {
   "cell_type": "code",
   "execution_count": null,
   "metadata": {},
   "outputs": [],
   "source": [
    "class RE_Dataset(torch.utils.data.Dataset):\n",
    "  \"\"\" Dataset 구성을 위한 class.\"\"\"\n",
    "  def __init__(self, pair_dataset, labels):\n",
    "    self.pair_dataset = pair_dataset\n",
    "    self.labels = labels\n",
    "\n",
    "  def __getitem__(self, idx):\n",
    "    item = {key: val[idx].clone().detach() for key, val in self.pair_dataset.items()}\n",
    "    item['labels'] = torch.tensor(self.labels[idx])\n",
    "    return item\n",
    "\n",
    "  def __len__(self):\n",
    "    return len(self.labels)\n",
    "  \n",
    "def preprocessing_dataset(dataset):\n",
    "  label_list = []\n",
    "  for main, detail in zip(dataset['main'], dataset['detail']):\n",
    "    label = f'{main}_{detail}'\n",
    "\n",
    "    label_list.append(label)\n",
    "  \"\"\" 처음 불러온 csv 파일을 원하는 형태의 DataFrame으로 변경 시켜줍니다.\"\"\"\n",
    "  out_dataset = pd.DataFrame({'url':dataset['url'],'context':dataset['context'], 'label':label_list})\n",
    "  return out_dataset\n",
    "\n",
    "def load_data(dataset_dir):\n",
    "  \"\"\" csv 파일을 경로에 맡게 불러 옵니다. \"\"\"\n",
    "  dataset = pd.read_csv(dataset_dir)\n",
    "  dataset = preprocessing_dataset(dataset)\n",
    "  \n",
    "  return dataset\n",
    "\n",
    "def tokenized_dataset(context, tokenizer):\n",
    "  \"\"\" tokenizer에 따라 sentence를 tokenizing 합니다.\"\"\"\n",
    "  tokenized_context = tokenizer(context,return_tensors=\"pt\", padding=True, truncation=True, max_length=256, add_special_tokens=True,)\n",
    "  return tokenized_context"
   ]
  },
  {
   "cell_type": "code",
   "execution_count": null,
   "metadata": {},
   "outputs": [],
   "source": [
    "def klue_re_micro_f1(preds, labels):\n",
    "    \"\"\"KLUE-RE micro f1 (except no_relation)\"\"\"\n",
    "    label_list = list(df['label'].unique())\n",
    "    label_indices = list(range(len(label_list)))\n",
    "    return sklearn.metrics.f1_score(labels, preds, average=\"micro\", labels=label_indices) * 100.0\n",
    "\n",
    "def klue_re_auprc(probs, labels):\n",
    "    \"\"\"KLUE-RE AUPRC (with no_relation)\"\"\"\n",
    "    labels = np.eye(len(df['label'].unique()))[labels]\n",
    "\n",
    "    score = np.zeros((len(df['label'].unique()),))\n",
    "    for c in range(len(df['label'].unique())):\n",
    "        targets_c = labels.take([c], axis=1).ravel()\n",
    "        preds_c = probs.take([c], axis=1).ravel()\n",
    "        precision, recall, _ = sklearn.metrics.precision_recall_curve(targets_c, preds_c)\n",
    "        score[c] = sklearn.metrics.auc(recall, precision)\n",
    "    return np.average(score) * 100.0\n",
    "\n",
    "def compute_metrics(pred):\n",
    "  \"\"\" validation을 위한 metrics function \"\"\"\n",
    "  labels = pred.label_ids\n",
    "  preds = pred.predictions.argmax(-1)\n",
    "  probs = pred.predictions\n",
    "\n",
    "  # calculate accuracy using sklearn's function\n",
    "  f1 = klue_re_micro_f1(preds, labels)\n",
    "  auprc = klue_re_auprc(probs, labels)\n",
    "  acc = accuracy_score(labels, preds) # 리더보드 평가에는 포함되지 않습니다.\n",
    "\n",
    "  return {\n",
    "      'micro f1 score': f1,\n",
    "      'auprc' : auprc,\n",
    "      'accuracy': acc,\n",
    "  }"
   ]
  },
  {
   "cell_type": "code",
   "execution_count": null,
   "metadata": {},
   "outputs": [],
   "source": [
    "MODEL_NAME = 'google-bert/bert-base-multilingual-uncased'\n",
    "device = torch.device('cuda:0' if torch.cuda.is_available() else 'cpu')\n",
    "print(device)\n",
    "\n",
    "tokenizer = AutoTokenizer.from_pretrained(MODEL_NAME)"
   ]
  },
  {
   "cell_type": "code",
   "execution_count": null,
   "metadata": {},
   "outputs": [],
   "source": [
    "df = load_data('data/reviewed_emotion_0308.csv')\n",
    "df.head()"
   ]
  },
  {
   "cell_type": "code",
   "execution_count": null,
   "metadata": {},
   "outputs": [],
   "source": [
    "label_2_num = {}\n",
    "num_2_label = {}\n",
    "\n",
    "for idx, value in enumerate(df['label'].unique()):\n",
    "  label_2_num[value] = idx\n",
    "  num_2_label[idx] = value"
   ]
  },
  {
   "cell_type": "code",
   "execution_count": null,
   "metadata": {},
   "outputs": [],
   "source": [
    "label = [label_2_num[value] for value in list(df['label'])]"
   ]
  },
  {
   "cell_type": "code",
   "execution_count": null,
   "metadata": {},
   "outputs": [],
   "source": [
    "X_train, X_test, y_train, y_test = train_test_split(df['context'], label, test_size=0.3)\n",
    "# X_train, X_test, y_train, y_test = train_test_split(df['context'], label, test_size=0.3, stratift=label)"
   ]
  },
  {
   "cell_type": "code",
   "execution_count": null,
   "metadata": {},
   "outputs": [],
   "source": [
    "train_context = tokenized_context = tokenized_dataset(X_train.to_list(), tokenizer)\n",
    "test_context = tokenized_context = tokenized_dataset(X_test.to_list(), tokenizer)"
   ]
  },
  {
   "cell_type": "code",
   "execution_count": null,
   "metadata": {},
   "outputs": [],
   "source": [
    "RE_train_dataset = RE_Dataset(train_context, y_train)\n",
    "RE_eval_dataset = RE_Dataset(test_context, y_test)"
   ]
  },
  {
   "cell_type": "code",
   "execution_count": null,
   "metadata": {},
   "outputs": [],
   "source": [
    "model_config =  AutoConfig.from_pretrained(MODEL_NAME)\n",
    "model_config.num_labels = len(df['label'].unique())\n",
    "\n",
    "model =  AutoModelForSequenceClassification.from_pretrained(MODEL_NAME, config=model_config)\n",
    "model.parameters\n",
    "model.to(device)"
   ]
  },
  {
   "cell_type": "code",
   "execution_count": null,
   "metadata": {},
   "outputs": [],
   "source": [
    "training_args = TrainingArguments(\n",
    "  output_dir='results',          # output directory\n",
    "  save_steps=500,                 # model saving step. # 나중에 100이나 500으로 수정\n",
    "  num_train_epochs=20,              # total number of training epochs\n",
    "  learning_rate=1e-5,               # learning_rate\n",
    "  per_device_train_batch_size=16,  # batch size per device during training\n",
    "  per_device_eval_batch_size=16,   # batch size for evaluation\n",
    "  warmup_steps=500,                # number of warmup steps for learning rate scheduler # 나중에 100이나 500으로 수정\n",
    "  weight_decay=0.01,               # strength of weight decay\n",
    "  evaluation_strategy='steps', # evaluation strategy to adopt during training\n",
    "                              # `no`: No evaluation during training.\n",
    "                              # `steps`: Evaluate every `eval_steps`.\n",
    "                              # `epoch`: Evaluate every end of epoch.\n",
    "  logging_steps=500,              # log saving step. # 나중에 100이나 500으로 수정\n",
    "  eval_steps = 500,            # evaluation step. # 나중에 100이나 500으로 수정\n",
    "  load_best_model_at_end = True\n",
    "  )\n",
    "trainer = Trainer(\n",
    "  model=model,                         # the instantiated 🤗 Transformers model to be trained\n",
    "  args=training_args,                  # training arguments, defined above\n",
    "  train_dataset=RE_train_dataset,         # training dataset\n",
    "  eval_dataset=RE_eval_dataset,             # evaluation dataset\n",
    "  compute_metrics=compute_metrics         # define metrics function\n",
    ")"
   ]
  },
  {
   "cell_type": "code",
   "execution_count": null,
   "metadata": {},
   "outputs": [],
   "source": [
    "trainer.train()"
   ]
  },
  {
   "cell_type": "markdown",
   "metadata": {},
   "source": [
    "# aihub"
   ]
  },
  {
   "cell_type": "code",
   "execution_count": null,
   "metadata": {},
   "outputs": [],
   "source": [
    "def inference(model, tokenized_sent, device):\n",
    "  \"\"\"\n",
    "    test dataset을 DataLoader로 만들어 준 후,\n",
    "    batch_size로 나눠 model이 예측 합니다.\n",
    "  \"\"\"\n",
    "  dataloader = DataLoader(tokenized_sent, batch_size=16, shuffle=False)\n",
    "  model.eval()\n",
    "  output_pred = []\n",
    "  output_prob = []\n",
    "  for i, data in enumerate(dataloader):\n",
    "    with torch.no_grad():\n",
    "      outputs = model(\n",
    "          input_ids=data['input_ids'].to(device),\n",
    "          attention_mask=data['attention_mask'].to(device),\n",
    "          token_type_ids=data['token_type_ids'].to(device)\n",
    "          )\n",
    "    logits = outputs[0]\n",
    "    prob = F.softmax(logits, dim=-1).detach().cpu().numpy()\n",
    "    logits = logits.detach().cpu().numpy()\n",
    "    result = np.argmax(logits, axis=-1)\n",
    "\n",
    "    output_pred.append(result)\n",
    "    output_prob.append(prob)\n",
    "  \n",
    "  return np.concatenate(output_pred).tolist(), np.concatenate(output_prob, axis=0).tolist()"
   ]
  },
  {
   "cell_type": "markdown",
   "metadata": {},
   "source": [
    "# active learning"
   ]
  },
  {
   "cell_type": "code",
   "execution_count": null,
   "metadata": {},
   "outputs": [],
   "source": [
    "with open('data/aihub.json') as aihub:\n",
    "  parsed_json = json.load(aihub)\n",
    "  \n",
    "aihub_context = [data['talk']['content']['HS01'] for data in parsed_json]\n",
    "aihub_label = [0] * len(aihub_context)\n",
    "aihub_df = pd.DataFrame({'context':aihub_context, 'label':aihub_label})"
   ]
  },
  {
   "cell_type": "code",
   "execution_count": null,
   "metadata": {},
   "outputs": [],
   "source": [
    "training_args = TrainingArguments(\n",
    "  output_dir='results',          # output directory\n",
    "  save_steps=500,                 # model saving step. # 나중에 100이나 500으로 수정\n",
    "  num_train_epochs=20,              # total number of training epochs\n",
    "  learning_rate=1e-5,               # learning_rate\n",
    "  per_device_train_batch_size=16,  # batch size per device during training\n",
    "  per_device_eval_batch_size=16,   # batch size for evaluation\n",
    "  warmup_steps=500,                # number of warmup steps for learning rate scheduler # 나중에 100이나 500으로 수정\n",
    "  weight_decay=0.01,               # strength of weight decay\n",
    "  evaluation_strategy='steps', # evaluation strategy to adopt during training\n",
    "                              # `no`: No evaluation during training.\n",
    "                              # `steps`: Evaluate every `eval_steps`.\n",
    "                              # `epoch`: Evaluate every end of epoch.\n",
    "  logging_steps=500,              # log saving step. # 나중에 100이나 500으로 수정\n",
    "  eval_steps = 500,            # evaluation step. # 나중에 100이나 500으로 수정\n",
    "  load_best_model_at_end = True\n",
    "  )\n",
    "\n",
    "\n",
    "learning_count = 10\n",
    "cut_count = len(aihub_label) // learning_count\n",
    "\n",
    "for n in range(learning_count):\n",
    "  print(f'{n + 1}번째 시작')\n",
    "  aihub_tokenized_context = tokenized_dataset(aihub_df['context'].to_list(), tokenizer)\n",
    "  aihub_label = aihub_df['label'].to_list()\n",
    "\n",
    "  RE_test_dataset = RE_Dataset(aihub_tokenized_context, aihub_label)\n",
    "\n",
    "  print('예측 시작')\n",
    "  pred_answer, output_prob = inference(model, RE_test_dataset, device) # model에서 class 추론\n",
    "  print('예측 종료')\n",
    "  pred_answer_label = [num_2_label[value] for value in pred_answer]\n",
    "  aihub_df['pred'] = pred_answer\n",
    "  aihub_df['prob'] = output_prob\n",
    "  aihub_df['prob'] = aihub_df['prob'].apply(lambda x: max(x))\n",
    "  aihub_df = aihub_df.sort_values(by='prob', ascending=False)\n",
    "\n",
    "  new_learning_data = aihub_df.iloc[:cut_count]\n",
    "  aihub_df = aihub_df.iloc[cut_count:]\n",
    "\n",
    "  tokenized_context = tokenized_dataset(new_learning_data['context'].to_list(), tokenizer)\n",
    "  NEW_train_dataset = RE_Dataset(tokenized_context, new_learning_data['pred'].to_list())\n",
    "\n",
    "  trainer = Trainer(\n",
    "    model=model,                         # the instantiated 🤗 Transformers model to be trained\n",
    "    args=training_args,                  # training arguments, defined above\n",
    "    train_dataset=NEW_train_dataset,         # training dataset\n",
    "    eval_dataset=RE_eval_dataset,             # evaluation dataset\n",
    "    compute_metrics=compute_metrics         # define metrics function\n",
    "  )\n",
    "  \n",
    "  print('학습 시작')\n",
    "  trainer.train()\n",
    "  print('학습 종료')\n",
    "  print(f'{n + 1}번째 종료')"
   ]
  }
 ],
 "metadata": {
  "kernelspec": {
   "display_name": "Python 3",
   "language": "python",
   "name": "python3"
  },
  "language_info": {
   "codemirror_mode": {
    "name": "ipython",
    "version": 3
   },
   "file_extension": ".py",
   "mimetype": "text/x-python",
   "name": "python",
   "nbconvert_exporter": "python",
   "pygments_lexer": "ipython3",
   "version": "3.10.12"
  }
 },
 "nbformat": 4,
 "nbformat_minor": 2
}
